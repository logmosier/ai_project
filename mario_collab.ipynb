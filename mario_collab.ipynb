{
  "nbformat": 4,
  "nbformat_minor": 0,
  "metadata": {
    "colab": {
      "name": "mario_collab.ipynb",
      "provenance": [],
      "private_outputs": true,
      "collapsed_sections": [],
      "toc_visible": true,
      "include_colab_link": true
    },
    "kernelspec": {
      "name": "python3",
      "display_name": "Python 3"
    },
    "accelerator": "GPU"
  },
  "cells": [
    {
      "cell_type": "markdown",
      "metadata": {
        "id": "view-in-github",
        "colab_type": "text"
      },
      "source": [
        "<a href=\"https://colab.research.google.com/github/logmosier/ai_project/blob/collab/mario_collab.ipynb\" target=\"_parent\"><img src=\"https://colab.research.google.com/assets/colab-badge.svg\" alt=\"Open In Colab\"/></a>"
      ]
    },
    {
      "cell_type": "markdown",
      "metadata": {
        "id": "odNaDE1zyrL2",
        "colab_type": "text"
      },
      "source": [
        "# install dependancies\n",
        "\n",
        "Rendering Dependancies\n",
        "\n"
      ]
    },
    {
      "cell_type": "code",
      "metadata": {
        "id": "8-AxnvAVyzQQ",
        "colab_type": "code",
        "colab": {}
      },
      "source": [
        "#remove \" > /dev/null 2>&1\" to see what is going on under the hood\n",
        "!pip install gym pyvirtualdisplay > /dev/null 2>&1\n",
        "!apt-get install -y xvfb python-opengl ffmpeg > /dev/null 2>&1"
      ],
      "execution_count": null,
      "outputs": []
    },
    {
      "cell_type": "markdown",
      "metadata": {
        "id": "8A-1LTSH88EE",
        "colab_type": "text"
      },
      "source": [
        "Main Dependancies"
      ]
    },
    {
      "cell_type": "code",
      "metadata": {
        "id": "TCelFzWY9MBI",
        "colab_type": "code",
        "colab": {}
      },
      "source": [
        "%tensorflow_version 1.x\n",
        "import tensorflow\n",
        "print(tensorflow.__version__)\n",
        "!pip install gym\n",
        "#!pip install git+https://github.com/sajjadzamani/gym-super-mario-bros.git\n",
        "!pip install gym-super-mario-bros\n",
        "!pip install stable_baselines==2.10.0"
      ],
      "execution_count": null,
      "outputs": []
    },
    {
      "cell_type": "markdown",
      "metadata": {
        "id": "APXSx7hg19TH",
        "colab_type": "text"
      },
      "source": [
        "# Setup Video Rendering\n"
      ]
    },
    {
      "cell_type": "code",
      "metadata": {
        "id": "pdb2JwZy4jGj",
        "colab_type": "code",
        "colab": {}
      },
      "source": [
        "import gym\n",
        "from gym import logger as gymlogger\n",
        "from gym.wrappers import Monitor\n",
        "gymlogger.set_level(40) #error only\n",
        "import glob\n",
        "import io\n",
        "import base64\n",
        "from IPython.display import HTML\n",
        "\n",
        "from IPython import display as ipythondisplay\n",
        "from pyvirtualdisplay import Display\n",
        "\n",
        "display = Display(visible=0, size=(1400, 900))\n",
        "display.start()\n",
        "\n",
        "\"\"\"\n",
        "Utility functions to enable video recording of gym environment and displaying it\n",
        "To enable video, just do \"env = wrap_env(env)\"\"\n",
        "\"\"\"\n",
        "\n",
        "def show_video():\n",
        "  mp4list = glob.glob('./video/*.mp4')\n",
        "  if len(mp4list) > 0:\n",
        "    mp4 = mp4list[0]\n",
        "    video = io.open(mp4, 'r+b').read()\n",
        "    encoded = base64.b64encode(video)\n",
        "    ipythondisplay.display(HTML(data='''<video alt=\"test\" autoplay \n",
        "                loop controls style=\"height: 400px;\">\n",
        "                <source src=\"data:video/mp4;base64,{0}\" type=\"video/mp4\" />\n",
        "             </video>'''.format(encoded.decode('ascii'))))\n",
        "  else: \n",
        "    print(\"Could not find video\")\n",
        "    \n",
        "\n",
        "def wrap_env(env):\n",
        "  env = Monitor(env, './video', video_callable=lambda episode_id: True, force=True)\n",
        "  return env"
      ],
      "execution_count": null,
      "outputs": []
    },
    {
      "cell_type": "code",
      "metadata": {
        "id": "XTqaLRtTFdb4",
        "colab_type": "code",
        "colab": {}
      },
      "source": [
        "from tqdm.notebook import tqdm\n",
        "from stable_baselines.common.callbacks import BaseCallback\n",
        "\n",
        "class TqdmCallback(BaseCallback):\n",
        "  def __init__(self, verbose=0):\n",
        "        super(TqdmCallback, self).__init__(verbose)\n",
        "        self.pbar = None\n",
        "\n",
        "  def _on_step(self):\n",
        "    if self.pbar is None:\n",
        "      self.pbar = tqdm(total=self.locals['total_timesteps'])   \n",
        "    self.pbar.update(1)\n",
        "      \n",
        "    if self.locals['total_timesteps'] == self.num_timesteps:\n",
        "        self.pbar.close()\n",
        "        self.pbar = None\n",
        "\n",
        "    return True"
      ],
      "execution_count": null,
      "outputs": []
    },
    {
      "cell_type": "markdown",
      "metadata": {
        "id": "W3BGbWOu179M",
        "colab_type": "text"
      },
      "source": [
        "# Build Model"
      ]
    },
    {
      "cell_type": "code",
      "metadata": {
        "id": "6XCgRVmpCmra",
        "colab_type": "code",
        "colab": {}
      },
      "source": [
        "from nes_py.wrappers import JoypadSpace\n",
        "import gym_super_mario_bros\n",
        "from gym_super_mario_bros.actions import SIMPLE_MOVEMENT, COMPLEX_MOVEMENT, RIGHT_ONLY\n",
        "from stable_baselines.common.policies import MlpPolicy, CnnPolicy\n",
        "from stable_baselines.common import make_vec_env\n",
        "from stable_baselines import PPO2\n",
        "from stable_baselines.common.env_checker import check_env\n",
        "from stable_baselines.common.callbacks import CallbackList, CheckpointCallback, EvalCallback\n",
        "\n",
        "import gym\n",
        "\n",
        "\n",
        "MODEL_NAME = 'mario'\n",
        "ENV_ID = 'SuperMarioBros-1-1-v2'\n",
        "LEARN_RATE = 0.001\n",
        "TIME_STEPS=10000\n",
        "POLICY = MlpPolicy\n",
        "EPOCH = 6\n",
        "\n",
        "# multiprocess environment\n",
        "env = gym_super_mario_bros.make(ENV_ID)\n",
        "env = JoypadSpace(env, RIGHT_ONLY)\n",
        "#env = wrap_env(env)\n",
        "\n",
        "# Save a checkpoint every 1000 steps\n",
        "# callback = CheckpointCallback(save_freq=1000000, save_path='./logs_joypad_vec/',\n",
        "                                      #  name_prefix='rl_model')\n",
        "callback = TqdmCallback()\n",
        "\n",
        "model = PPO2(POLICY, env, learning_rate=LEARN_RATE, noptepochs=EPOCH)\n",
        "model.learn(total_timesteps=TIME_STEPS, callback=callback)\n",
        "model.save(MODEL_NAME)\n"
      ],
      "execution_count": null,
      "outputs": []
    },
    {
      "cell_type": "code",
      "metadata": {
        "id": "_NGo6pRjwX69",
        "colab_type": "code",
        "colab": {}
      },
      "source": [
        "from stable_baselines.common.vec_env import VecVideoRecorder, DummyVecEnv\n",
        "video_folder = './video'\n",
        "video_length = 10000\n",
        "\n",
        "env.reset()\n",
        "env = DummyVecEnv([lambda: env])\n",
        "obs = env.reset()\n",
        "\n",
        "# Record the video starting at the first step\n",
        "env = VecVideoRecorder(env, video_folder,\n",
        "                       record_video_trigger=lambda x: x == 0, video_length=video_length,\n",
        "                       name_prefix=\"random-agent-{}\".format(ENV_ID))\n",
        "\n",
        "env.reset()\n",
        "for _ in range(video_length + 1):\n",
        "  action, _states = model.predict(obs)\n",
        "  obs, _, _, _ = env.step(action)\n",
        "# Save the video\n",
        "env.close()\n",
        "show_video()"
      ],
      "execution_count": null,
      "outputs": []
    },
    {
      "cell_type": "code",
      "metadata": {
        "id": "0tHEZZgM579U",
        "colab_type": "code",
        "colab": {}
      },
      "source": [
        "from google.colab import drive\n",
        "drive.mount('/content/drive')"
      ],
      "execution_count": null,
      "outputs": []
    }
  ]
}