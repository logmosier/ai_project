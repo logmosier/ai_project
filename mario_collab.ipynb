{
  "nbformat": 4,
  "nbformat_minor": 0,
  "metadata": {
    "colab": {
      "name": "mario_collab.ipynb",
      "provenance": [],
      "private_outputs": true,
      "collapsed_sections": [],
      "toc_visible": true,
      "include_colab_link": true
    },
    "kernelspec": {
      "name": "python3",
      "display_name": "Python 3"
    },
    "accelerator": "GPU"
  },
  "cells": [
    {
      "cell_type": "markdown",
      "metadata": {
        "id": "view-in-github",
        "colab_type": "text"
      },
      "source": [
        "<a href=\"https://colab.research.google.com/github/logmosier/ai_project/blob/master/mario_collab.ipynb\" target=\"_parent\"><img src=\"https://colab.research.google.com/assets/colab-badge.svg\" alt=\"Open In Colab\"/></a>"
      ]
    },
    {
      "cell_type": "markdown",
      "metadata": {
        "id": "odNaDE1zyrL2",
        "colab_type": "text"
      },
      "source": [
        "# install dependancies\n",
        "\n",
        "Rendering Dependancies\n",
        "\n"
      ]
    },
    {
      "cell_type": "code",
      "metadata": {
        "id": "8-AxnvAVyzQQ",
        "colab_type": "code",
        "colab": {}
      },
      "source": [
        "#remove \" > /dev/null 2>&1\" to see what is going on under the hood\n",
        "!pip install gym pyvirtualdisplay > /dev/null 2>&1\n",
        "!apt-get install -y xvfb python-opengl ffmpeg > /dev/null 2>&1"
      ],
      "execution_count": null,
      "outputs": []
    },
    {
      "cell_type": "markdown",
      "metadata": {
        "id": "8A-1LTSH88EE",
        "colab_type": "text"
      },
      "source": [
        "Main Dependancies"
      ]
    },
    {
      "cell_type": "code",
      "metadata": {
        "id": "TCelFzWY9MBI",
        "colab_type": "code",
        "colab": {}
      },
      "source": [
        "!pip uninstall tensorflow tensorflow-gpu && pip install tensorflow-gpu==1.15\n",
        "!pip install gym[atari]\n",
        "!pip install git+https://github.com/sajjadzamani/gym-super-mario-bros.git\n",
        "!pip install stable_baselines"
      ],
      "execution_count": null,
      "outputs": []
    },
    {
      "cell_type": "markdown",
      "metadata": {
        "id": "APXSx7hg19TH",
        "colab_type": "text"
      },
      "source": [
        "# Setup Video Rendering\n"
      ]
    },
    {
      "cell_type": "code",
      "metadata": {
        "id": "pdb2JwZy4jGj",
        "colab_type": "code",
        "colab": {}
      },
      "source": [
        "import gym\n",
        "from gym import logger as gymlogger\n",
        "from gym.wrappers import Monitor\n",
        "gymlogger.set_level(40) #error only\n",
        "import glob\n",
        "import io\n",
        "import base64\n",
        "from IPython.display import HTML\n",
        "\n",
        "from IPython import display as ipythondisplay\n",
        "from pyvirtualdisplay import Display\n",
        "\n",
        "display = Display(visible=0, size=(1400, 900))\n",
        "display.start()\n",
        "\n",
        "\"\"\"\n",
        "Utility functions to enable video recording of gym environment and displaying it\n",
        "To enable video, just do \"env = wrap_env(env)\"\"\n",
        "\"\"\"\n",
        "\n",
        "def show_video():\n",
        "  mp4list = glob.glob('logs/videos/*.mp4')\n",
        "  if len(mp4list) > 0:\n",
        "    mp4 = mp4list[0]\n",
        "    video = io.open(mp4, 'r+b').read()\n",
        "    encoded = base64.b64encode(video)\n",
        "    ipythondisplay.display(HTML(data='''<video alt=\"test\" autoplay \n",
        "                loop controls style=\"height: 400px;\">\n",
        "                <source src=\"data:video/mp4;base64,{0}\" type=\"video/mp4\" />\n",
        "             </video>'''.format(encoded.decode('ascii'))))\n",
        "  else: \n",
        "    print(\"Could not find video\")\n",
        "    \n",
        "\n",
        "def wrap_env(env):\n",
        "  env = Monitor(env, './video', force=True)\n",
        "  return env"
      ],
      "execution_count": null,
      "outputs": []
    },
    {
      "cell_type": "markdown",
      "metadata": {
        "id": "W3BGbWOu179M",
        "colab_type": "text"
      },
      "source": [
        "# Build Model"
      ]
    },
    {
      "cell_type": "code",
      "metadata": {
        "id": "6XCgRVmpCmra",
        "colab_type": "code",
        "colab": {}
      },
      "source": [
        "from nes_py.wrappers import JoypadSpace\n",
        "import gym_super_mario_bros\n",
        "from gym_super_mario_bros.actions import SIMPLE_MOVEMENT\n",
        "from stable_baselines.common.policies import MlpPolicy\n",
        "from stable_baselines.common import make_vec_env\n",
        "from stable_baselines import PPO2\n",
        "from stable_baselines.common.env_checker import check_env\n",
        "from stable_baselines.common.callbacks import CallbackList, CheckpointCallback, EvalCallback\n",
        "\n",
        "import gym\n",
        "from stable_baselines.common.vec_env import VecVideoRecorder, DummyVecEnv\n",
        "\n",
        "def train_model(name):\n",
        "  # multiprocess environment\n",
        "  env = gym_super_mario_bros.make('SuperMarioBros-1-1-v2')\n",
        "  env = JoypadSpace(env, SIMPLE_MOVEMENT)\n",
        "  #env = make_vec_env(lambda: env, n_envs=4)\n",
        "\n",
        "  # Save a checkpoint every 1000 steps\n",
        "  checkpoint_callback = CheckpointCallback(save_freq=10000, save_path='./logs_joypad_vec/',\n",
        "                                          name_prefix='rl_model')\n",
        "\n",
        "  model = PPO2(MlpPolicy, env, verbose=1,tensorboard_log=\"./mario_tensorboard/\")\n",
        "  model.learn(total_timesteps=1000000, callback=checkpoint_callback)\n",
        "  model.save(name)\n",
        "\n",
        "def run_model(name):\n",
        "  env_id = 'SuperMarioBros-1-1-v2'\n",
        "  video_folder = 'logs/videos/'\n",
        "  video_length = 1000\n",
        "\n",
        "  env = DummyVecEnv([lambda: gym.make(env_id)])\n",
        "\n",
        "  obs = env.reset()\n",
        "  model = PPO2.load(name)\n",
        "\n",
        "  # Record the video starting at the first step\n",
        "  env = VecVideoRecorder(env, video_folder,\n",
        "                       record_video_trigger=lambda x: x == 0, video_length=video_length,\n",
        "                       name_prefix=\"random-agent-{}\".format(env_id))\n",
        "\n",
        "  env.reset()\n",
        "  for _ in range(video_length + 1):\n",
        "    action, _states = model.predict(obs)\n",
        "    obs, _, _, _ = env.step(action)\n",
        "  # Save the video\n",
        "  env.close()\n",
        "  show_video()\n",
        "\n",
        "train_model(\"mario\")"
      ],
      "execution_count": null,
      "outputs": []
    },
    {
      "cell_type": "markdown",
      "metadata": {
        "id": "si4uvG3qK4qu",
        "colab_type": "text"
      },
      "source": [
        "# Run model"
      ]
    },
    {
      "cell_type": "code",
      "metadata": {
        "id": "OzxFCUzJKxDK",
        "colab_type": "code",
        "colab": {}
      },
      "source": [
        "run_model(\"mario\")"
      ],
      "execution_count": null,
      "outputs": []
    }
  ]
}